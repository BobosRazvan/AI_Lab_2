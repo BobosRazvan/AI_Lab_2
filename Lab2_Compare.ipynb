{
  "nbformat": 4,
  "nbformat_minor": 0,
  "metadata": {
    "colab": {
      "provenance": [],
      "authorship_tag": "ABX9TyOCAoUL9haj4rke1jP+EfQU",
      "include_colab_link": true
    },
    "kernelspec": {
      "name": "python3",
      "display_name": "Python 3"
    },
    "language_info": {
      "name": "python"
    }
  },
  "cells": [
    {
      "cell_type": "markdown",
      "metadata": {
        "id": "view-in-github",
        "colab_type": "text"
      },
      "source": [
        "<a href=\"https://colab.research.google.com/github/BobosRazvan/AI_Lab_2/blob/main/Lab2_Compare.ipynb\" target=\"_parent\"><img src=\"https://colab.research.google.com/assets/colab-badge.svg\" alt=\"Open In Colab\"/></a>"
      ]
    },
    {
      "cell_type": "code",
      "execution_count": null,
      "metadata": {
        "id": "ZrXZk91-Zih7"
      },
      "outputs": [],
      "source": [
        "import heapq\n",
        "import time\n",
        "from collections import deque\n",
        "\n",
        "graph = {\n",
        "\"A\": [(\"B\",1), (\"C\",1)],\n",
        "\"B\": [(\"D\",1)],\n",
        "\"C\": [(\"D\",1), (\"E\",1)],\n",
        "\"D\": [],\n",
        "\"E\": [(\"F\",1),(\"G\",1)],\n",
        "\"F\": [],\n",
        "\"G\": []\n",
        "}\n",
        "\n",
        "h = {\"A\":4, \"B\":3,\"C\":3,\"D\":2,\"E\":2,\"F\":0,\"G\":1}\n",
        "start_node = \"A\"\n",
        "end_node = \"F\"\n"
      ]
    },
    {
      "cell_type": "code",
      "source": [
        "def bfs_shortest_path(graph, start, goal):\n",
        "\n",
        "    queue = deque([[start]])\n",
        "    visited = set()\n",
        "\n",
        "    while queue:\n",
        "        path = queue.popleft()\n",
        "        node = path[-1]\n",
        "\n",
        "        if node in visited:\n",
        "            continue\n",
        "        visited.add(node)\n",
        "\n",
        "        if node == goal:\n",
        "\n",
        "            shortest_path_nodes = [n for n in path]\n",
        "            return shortest_path_nodes\n",
        "\n",
        "        for neighbor, _ in graph.get(node, []):  # Ignore weights\n",
        "            new_path = list(path)\n",
        "            new_path.append(neighbor)\n",
        "            queue.append(new_path)\n",
        "\n",
        "    return None"
      ],
      "metadata": {
        "id": "d9lxs6B8a0qj"
      },
      "execution_count": null,
      "outputs": []
    },
    {
      "cell_type": "code",
      "source": [
        "\n",
        "def a_star(graph, h, start, end):\n",
        "\n",
        "    g_score = {node: float('inf') for node in graph}\n",
        "    f_score = {node: float('inf') for node in graph}\n",
        "    came_from = {node: None for node in graph}\n",
        "\n",
        "\n",
        "    g_score[start] = 0\n",
        "    f_score[start] = h[start]\n",
        "\n",
        "\n",
        "    frontier_nodes = [(f_score[start], start)]#min heap\n",
        "\n",
        "\n",
        "\n",
        "    while frontier_nodes:\n",
        "\n",
        "        current_f_score, current_node = heapq.heappop(frontier_nodes)\n",
        "        #function which pops the lowest f score with the respective node\n",
        "\n",
        "        if current_node == end:\n",
        "            path = []\n",
        "            while current_node:\n",
        "                path.append(current_node)\n",
        "                current_node = came_from[current_node]  #recreate path\n",
        "            return path[::-1]\n",
        "\n",
        "\n",
        "        for neighbor, cost in graph.get(current_node, []):\n",
        "\n",
        "            tentative_g_score = g_score[current_node] + cost\n",
        "\n",
        "            if tentative_g_score < g_score[neighbor]:\n",
        "\n",
        "                g_score[neighbor] = tentative_g_score\n",
        "                f_score[neighbor] = g_score[neighbor] + h[neighbor]\n",
        "                came_from[neighbor] = current_node\n",
        "\n",
        "\n",
        "                heapq.heappush(frontier_nodes, (f_score[neighbor], neighbor))\n",
        "                #function to push on the heap if it is not already\n",
        "\n",
        "\n",
        "    return None"
      ],
      "metadata": {
        "id": "N0c2F3ypcItY"
      },
      "execution_count": null,
      "outputs": []
    },
    {
      "cell_type": "code",
      "source": [
        "start_time = time.time()\n",
        "bfs_shortest_path = bfs_shortest_path(graph, start_node, end_node)\n",
        "end_time = time.time()\n",
        "bfs_elapsed_time = end_time - start_time\n",
        "\n",
        "start_time = time.time()\n",
        "a_star_shortest_path = a_star(graph,h, start_node, end_node)\n",
        "end_time = time.time()\n",
        "a_star_elapsed_time = end_time - start_time\n",
        "\n",
        "\n",
        "print(f\"BFS: Shortest path from {start_node} to {end_node} is: {bfs_shortest_path}\")\n",
        "print(f\"A*: Shortest path from {start_node} to {end_node} is: {a_star_shortest_path}\")\n",
        "print(f\"Time taken for BFS: {bfs_elapsed_time:.6f} seconds\")\n",
        "print(f\"Time taken for A*: {a_star_elapsed_time:.6f} seconds\")"
      ],
      "metadata": {
        "colab": {
          "base_uri": "https://localhost:8080/"
        },
        "id": "P4dgbH8xbNB4",
        "outputId": "e360150e-245c-4ac9-ce7f-8e296362f6ae"
      },
      "execution_count": null,
      "outputs": [
        {
          "output_type": "stream",
          "name": "stdout",
          "text": [
            "BFS: Shortest path from A to F is: ['A', 'C', 'E', 'F']\n",
            "A*: Shortest path from A to F is: ['A', 'C', 'E', 'F']\n",
            "Time taken for BFS: 0.000239 seconds\n",
            "Time taken for A*: 0.000129 seconds\n"
          ]
        }
      ]
    },
    {
      "cell_type": "markdown",
      "source": [
        "# **Discussing the efficiency:**\n",
        "\n",
        "In this specific case, the A* algorithm was more efficient than BFS, as seen from the runtime comparison. The presence of the heuristic allowed A* to reduce the number of nodes explored, leading to faster execution, while BFS explored blindly the nodes.\n",
        "\n",
        "\n",
        "---\n",
        "\n",
        "\n",
        "However, I think for larger graphs the difference would be way more visible."
      ],
      "metadata": {
        "id": "qvSyTqn4jK3x"
      }
    }
  ]
}