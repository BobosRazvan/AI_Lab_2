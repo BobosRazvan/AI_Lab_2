{
  "nbformat": 4,
  "nbformat_minor": 0,
  "metadata": {
    "colab": {
      "provenance": [],
      "authorship_tag": "ABX9TyP684i2INYa4zfT9q+IWgNE",
      "include_colab_link": true
    },
    "kernelspec": {
      "name": "python3",
      "display_name": "Python 3"
    },
    "language_info": {
      "name": "python"
    }
  },
  "cells": [
    {
      "cell_type": "markdown",
      "metadata": {
        "id": "view-in-github",
        "colab_type": "text"
      },
      "source": [
        "<a href=\"https://colab.research.google.com/github/BobosRazvan/AI_Lab_2/blob/main/Lab2_DFS.ipynb\" target=\"_parent\"><img src=\"https://colab.research.google.com/assets/colab-badge.svg\" alt=\"Open In Colab\"/></a>"
      ]
    },
    {
      "cell_type": "code",
      "execution_count": null,
      "metadata": {
        "id": "LWJ8TTdLIAGv"
      },
      "outputs": [],
      "source": [
        "graph = {\n",
        "\"A\": [\"B\", \"C\"],\n",
        "\"B\": [\"D\", \"E\"],\n",
        "\"C\": [\"F\"],\n",
        "\"D\": [],\n",
        "\"E\": [\"F\"],\n",
        "\"F\": []\n",
        "}"
      ]
    },
    {
      "cell_type": "code",
      "source": [
        "def dfs(graph, start):\n",
        "    visited = set()\n",
        "    stack = [start]\n",
        "    path = []\n",
        "\n",
        "    while stack:\n",
        "        node = stack.pop()\n",
        "        if node not in visited:\n",
        "            path.append(node)\n",
        "            visited.add(node)\n",
        "\n",
        "            for neighbor in reversed(graph.get(node, [])):\n",
        "                if neighbor not in visited:\n",
        "                    stack.append(neighbor)\n",
        "\n",
        "    return path\n"
      ],
      "metadata": {
        "id": "mC5gp4NHIWkf"
      },
      "execution_count": null,
      "outputs": []
    },
    {
      "cell_type": "code",
      "source": [
        "start_node = \"A\"\n",
        "print(f\"Traversal order: {dfs(graph, start_node)}\")"
      ],
      "metadata": {
        "colab": {
          "base_uri": "https://localhost:8080/"
        },
        "id": "vt2UqAGuL2dS",
        "outputId": "817a6efb-449c-41cd-82c2-1d04bd178099"
      },
      "execution_count": null,
      "outputs": [
        {
          "output_type": "stream",
          "name": "stdout",
          "text": [
            "Traversal order: ['A', 'B', 'D', 'E', 'F', 'C']\n"
          ]
        }
      ]
    }
  ]
}