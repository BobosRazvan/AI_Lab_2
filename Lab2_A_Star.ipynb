{
  "nbformat": 4,
  "nbformat_minor": 0,
  "metadata": {
    "colab": {
      "provenance": [],
      "authorship_tag": "ABX9TyN56oFWRjaLT/7TdXfOraBj",
      "include_colab_link": true
    },
    "kernelspec": {
      "name": "python3",
      "display_name": "Python 3"
    },
    "language_info": {
      "name": "python"
    }
  },
  "cells": [
    {
      "cell_type": "markdown",
      "metadata": {
        "id": "view-in-github",
        "colab_type": "text"
      },
      "source": [
        "<a href=\"https://colab.research.google.com/github/BobosRazvan/AI_Lab_2/blob/main/Lab2_A_Star.ipynb\" target=\"_parent\"><img src=\"https://colab.research.google.com/assets/colab-badge.svg\" alt=\"Open In Colab\"/></a>"
      ]
    },
    {
      "cell_type": "code",
      "execution_count": null,
      "metadata": {
        "id": "t-DQuJ2IR9Ps"
      },
      "outputs": [],
      "source": [
        "import heapq\n",
        "\n",
        "graph = {\n",
        "\"A\": [(\"B\",1), (\"C\",4)],\n",
        "\"B\": [(\"D\",2), (\"E\",5)],\n",
        "\"C\": [(\"F\",3)],\n",
        "\"D\": [(\"F\",1)],\n",
        "\"E\": [(\"F\",2)],\n",
        "\"F\": []\n",
        "}\n",
        "\n",
        "h = {\"A\":7, \"B\":6,\"C\":2,\"D\":1,\"E\":2,\"F\":0}"
      ]
    },
    {
      "cell_type": "code",
      "source": [
        "\n",
        "\n",
        "def a_star(graph, h, start, end):\n",
        "\n",
        "    g_score = {node: float('inf') for node in graph}\n",
        "    f_score = {node: float('inf') for node in graph}\n",
        "    came_from = {node: None for node in graph}\n",
        "\n",
        "\n",
        "    g_score[start] = 0\n",
        "    f_score[start] = h[start]\n",
        "\n",
        "\n",
        "    frontier_nodes = [(f_score[start], start)]#min heap\n",
        "\n",
        "\n",
        "\n",
        "    while frontier_nodes:\n",
        "\n",
        "        current_f_score, current_node = heapq.heappop(frontier_nodes)\n",
        "        #function which pops the lowest f score with the respective node\n",
        "\n",
        "        if current_node == end:\n",
        "            path = []\n",
        "            while current_node:\n",
        "                path.append(current_node)\n",
        "                current_node = came_from[current_node]  #recreate path\n",
        "            return path[::-1]\n",
        "\n",
        "\n",
        "        for neighbor, cost in graph.get(current_node, []):\n",
        "\n",
        "            tentative_g_score = g_score[current_node] + cost\n",
        "\n",
        "            if tentative_g_score < g_score[neighbor]:\n",
        "\n",
        "                g_score[neighbor] = tentative_g_score\n",
        "                f_score[neighbor] = g_score[neighbor] + h[neighbor]\n",
        "                came_from[neighbor] = current_node\n",
        "\n",
        "\n",
        "                heapq.heappush(frontier_nodes, (f_score[neighbor], neighbor))\n",
        "                #function to push on the heap if it is not already\n",
        "\n",
        "\n",
        "    return None\n"
      ],
      "metadata": {
        "id": "bJbEBEwcSoHO"
      },
      "execution_count": null,
      "outputs": []
    },
    {
      "cell_type": "code",
      "source": [
        "start_node = \"A\"\n",
        "end_node = \"F\"\n",
        "print(f\"Shortest path from {start_node} to {end_node} is: {a_star(graph,h, start_node,end_node)}\")"
      ],
      "metadata": {
        "colab": {
          "base_uri": "https://localhost:8080/"
        },
        "id": "Uk5-z0dOYyvl",
        "outputId": "2ec6869e-72c8-4d03-9d50-280dd7d32a83"
      },
      "execution_count": null,
      "outputs": [
        {
          "output_type": "stream",
          "name": "stdout",
          "text": [
            "Shortest path from A to F is: ['A', 'B', 'D', 'F']\n"
          ]
        }
      ]
    }
  ]
}